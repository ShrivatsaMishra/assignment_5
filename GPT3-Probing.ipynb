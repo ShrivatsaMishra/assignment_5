{
 "cells": [
  {
   "cell_type": "markdown",
   "id": "d0c697ed",
   "metadata": {},
   "source": [
    "# Prompt Engineering and Probing with GPT3\n",
    "\n",
    "With GPT3, we can do a variety of tasks without the need of training a model. All we need to do is convert the task into an text generation task that follows a set of instructions called *prompts*. As an example, the task of sentiment classification can be designed as:\n",
    "\n",
    "```\n",
    "Decide whether a Tweet's sentiment is positive, neutral, or negative.\n",
    "\n",
    "Tweet: I loved the new Batman movie!\n",
    "Sentiment:\n",
    "```\n",
    "\n",
    "The GPT3 model then completes the text above with the response **Positive**. The above prompt is an example of zero-shot learning, meaning, we are not providing any signal/direction that can guide the decision and merely rely on GPT's pretraining objective:\n",
    "\n",
    "```\n",
    "Decide whether a Tweet's sentiment is positive, neutral, or negative.\n",
    "\n",
    "Tweet: I really liked the Spiderman movie!\n",
    "Sentiment: Positive\n",
    "\n",
    "Tweet: I loved the new Batman movie!\n",
    "Sentiment:\n",
    "```\n",
    "\n",
    "Now this is an example of 1-shot learning, i.e., you are providing an labeled example of how the output should look and then ask GPT to complete the next example. When you use more than 1 labeled example, it is known as few-shot learning.  Generally, if you provide more examples in the prompt, it will make better predictions.\n",
    "\n",
    "## Getting Started\n",
    "\n",
    "\n",
    "In this assignment, we will first need to register for an account at: https://platform.openai.com/ As a free trial, you will get $18 credits to make api calls to the GPT server. Once registered, you should go through the docs here: https://platform.openai.com/docs/guides/completion/prompt-design to get more info on the capabilities of the model. \n",
    "\n",
    "You can either do this homework using the free to use playground/chat interface of openai using the following links:\n",
    "\n",
    "- [https://platform.openai.com/playground](https://platform.openai.com/playground)\n",
    "- [https://chat.openai.com](https://chat.openai.com)\n",
    "\n",
    "But if you want to use the API to make automatic calls to open ai, we will need to follow the steps below:"
   ]
  },
  {
   "cell_type": "code",
   "execution_count": 3,
   "id": "806993a1",
   "metadata": {},
   "outputs": [
    {
     "name": "stdout",
     "output_type": "stream",
     "text": [
      "Requirement already satisfied: openai in /home/rehan/anaconda3/envs/cu39/lib/python3.9/site-packages (0.24.0)\n",
      "Requirement already satisfied: tqdm in /home/rehan/anaconda3/envs/cu39/lib/python3.9/site-packages (from openai) (4.64.1)\n",
      "Requirement already satisfied: requests>=2.20 in /home/rehan/anaconda3/envs/cu39/lib/python3.9/site-packages (from openai) (2.28.1)\n",
      "Requirement already satisfied: numpy in /home/rehan/anaconda3/envs/cu39/lib/python3.9/site-packages (from openai) (1.23.3)\n",
      "Requirement already satisfied: typing-extensions in /home/rehan/anaconda3/envs/cu39/lib/python3.9/site-packages (from openai) (4.4.0)\n",
      "Requirement already satisfied: pandas-stubs>=1.1.0.11 in /home/rehan/anaconda3/envs/cu39/lib/python3.9/site-packages (from openai) (1.5.1.221024)\n",
      "Requirement already satisfied: pandas>=1.2.3 in /home/rehan/anaconda3/envs/cu39/lib/python3.9/site-packages (from openai) (1.5.1)\n",
      "Requirement already satisfied: openpyxl>=3.0.7 in /home/rehan/anaconda3/envs/cu39/lib/python3.9/site-packages (from openai) (3.0.10)\n",
      "Requirement already satisfied: et-xmlfile in /home/rehan/anaconda3/envs/cu39/lib/python3.9/site-packages (from openpyxl>=3.0.7->openai) (1.1.0)\n",
      "Requirement already satisfied: python-dateutil>=2.8.1 in /home/rehan/anaconda3/envs/cu39/lib/python3.9/site-packages (from pandas>=1.2.3->openai) (2.8.2)\n",
      "Requirement already satisfied: pytz>=2020.1 in /home/rehan/anaconda3/envs/cu39/lib/python3.9/site-packages (from pandas>=1.2.3->openai) (2022.5)\n",
      "Requirement already satisfied: types-pytz>=2022.1.1 in /home/rehan/anaconda3/envs/cu39/lib/python3.9/site-packages (from pandas-stubs>=1.1.0.11->openai) (2022.5.0.0)\n",
      "Requirement already satisfied: urllib3<1.27,>=1.21.1 in /home/rehan/anaconda3/envs/cu39/lib/python3.9/site-packages (from requests>=2.20->openai) (1.26.12)\n",
      "Requirement already satisfied: certifi>=2017.4.17 in /home/rehan/anaconda3/envs/cu39/lib/python3.9/site-packages (from requests>=2.20->openai) (2022.9.24)\n",
      "Requirement already satisfied: charset-normalizer<3,>=2 in /home/rehan/anaconda3/envs/cu39/lib/python3.9/site-packages (from requests>=2.20->openai) (2.1.1)\n",
      "Requirement already satisfied: idna<4,>=2.5 in /home/rehan/anaconda3/envs/cu39/lib/python3.9/site-packages (from requests>=2.20->openai) (3.4)\n",
      "Requirement already satisfied: six>=1.5 in /home/rehan/anaconda3/envs/cu39/lib/python3.9/site-packages (from python-dateutil>=2.8.1->pandas>=1.2.3->openai) (1.16.0)\n",
      "Note: you may need to restart the kernel to use updated packages.\n"
     ]
    }
   ],
   "source": [
    "pip install openai"
   ]
  },
  {
   "cell_type": "code",
   "execution_count": 1,
   "id": "f88e0fce-4d55-4fd3-9ea3-eeadefb11dd1",
   "metadata": {},
   "outputs": [],
   "source": [
    "import os\n",
    "\n",
    "## Find the API key by clicking on your profile in the openai page. Add the key to the environment as following:\n",
    "## Make sure to delete this cell afterwords\n",
    "\n",
    "os.environ['OPENAI_API_KEY'] = 'sk-...'"
   ]
  },
  {
   "cell_type": "code",
   "execution_count": 14,
   "id": "cf90729c",
   "metadata": {},
   "outputs": [],
   "source": [
    "from openai import OpenAI\n",
    "client = OpenAI()\n",
    "\n",
    "client.api_key = os.getenv('OPENAI_API_KEY')"
   ]
  },
  {
   "cell_type": "markdown",
   "id": "e7fc7bd8-b70f-49d4-90ab-79b9eb63121b",
   "metadata": {},
   "source": [
    "## Using text completion"
   ]
  },
  {
   "cell_type": "code",
   "execution_count": 4,
   "id": "bce117de",
   "metadata": {},
   "outputs": [],
   "source": [
    "response = client.completions.create(\n",
    "  model=\"text-davinci-002\",\n",
    "  prompt=\"Decide whether a Tweet's sentiment is positive, neutral, or negative.\\n\\nTweet: \\\"I loved the new Batman movie!\\\"\\nSentiment:\",\n",
    "  temperature=0,\n",
    "  max_tokens=60,\n",
    "  top_p=1,\n",
    "  frequency_penalty=0.5,\n",
    "  presence_penalty=0\n",
    ")"
   ]
  },
  {
   "cell_type": "code",
   "execution_count": 5,
   "id": "1900d9de",
   "metadata": {},
   "outputs": [
    {
     "data": {
      "text/plain": [
       "Completion(id='cmpl-8KcJlccBW9XDzMSxXGafyjD309mEz', choices=[CompletionChoice(finish_reason='stop', index=0, logprobs=None, text=' Positive')], created=1699924545, model='text-davinci-002', object='text_completion', system_fingerprint=None, usage=CompletionUsage(completion_tokens=1, prompt_tokens=31, total_tokens=32), warning='This model version is deprecated. Migrate before January 4, 2024 to avoid disruption of service. Learn more https://platform.openai.com/docs/deprecations')"
      ]
     },
     "execution_count": 5,
     "metadata": {},
     "output_type": "execute_result"
    }
   ],
   "source": [
    "response"
   ]
  },
  {
   "cell_type": "code",
   "execution_count": 8,
   "id": "6444ebbc",
   "metadata": {},
   "outputs": [
    {
     "data": {
      "text/plain": [
       "' Positive'"
      ]
     },
     "execution_count": 8,
     "metadata": {},
     "output_type": "execute_result"
    }
   ],
   "source": [
    "response.choices[0].text"
   ]
  },
  {
   "cell_type": "markdown",
   "id": "ac6245ed-ddba-469e-a5d4-85ce8a9e6513",
   "metadata": {},
   "source": [
    "## Using chat completion"
   ]
  },
  {
   "cell_type": "code",
   "execution_count": 9,
   "id": "48670dc9-e5d1-4160-bebc-8bf7f9b27454",
   "metadata": {},
   "outputs": [],
   "source": [
    "response = client.chat.completions.create(\n",
    "  model=\"gpt-3.5-turbo\",\n",
    "  messages=[\n",
    "    {\"role\": \"system\", \"content\": \"You are a Sentiment Classifier.\"},\n",
    "    {\"role\": \"user\", \"content\": \"Decide whether a Tweet's sentiment is positive, neutral, or negative.\\n\\nTweet: \\\"I loved the new Batman movie!\\\"\\nSentiment:\"}\n",
    "  ]\n",
    ")"
   ]
  },
  {
   "cell_type": "code",
   "execution_count": 12,
   "id": "c85e3c05-e7de-4422-bc1c-eebcc802d3e4",
   "metadata": {},
   "outputs": [
    {
     "data": {
      "text/plain": [
       "ChatCompletion(id='chatcmpl-8KcNxE1odapJX4OQA5OoLoBYXD6J8', choices=[Choice(finish_reason='stop', index=0, message=ChatCompletionMessage(content='Positive', role='assistant', function_call=None, tool_calls=None))], created=1699924805, model='gpt-3.5-turbo-0613', object='chat.completion', system_fingerprint=None, usage=CompletionUsage(completion_tokens=1, prompt_tokens=46, total_tokens=47))"
      ]
     },
     "execution_count": 12,
     "metadata": {},
     "output_type": "execute_result"
    }
   ],
   "source": [
    "response"
   ]
  },
  {
   "cell_type": "code",
   "execution_count": 13,
   "id": "23316601-6833-49ea-a487-5ce7433be9d9",
   "metadata": {},
   "outputs": [
    {
     "data": {
      "text/plain": [
       "'Positive'"
      ]
     },
     "execution_count": 13,
     "metadata": {},
     "output_type": "execute_result"
    }
   ],
   "source": [
    "response.choices[0].message.content"
   ]
  },
  {
   "cell_type": "markdown",
   "id": "5cd0af83",
   "metadata": {},
   "source": [
    "If you see ' Positive' as response in the above cell, you have successfully set-up gpt3 in your system.\n",
    "\n",
    "Now, the task for the assignment is really just do something cool. For example, you could probe how well GPT3 performs on the tasks in the previous HWs. Or, you could do something like question-answering or summarization, that were not covered in the assignments. The choice is yours."
   ]
  },
  {
   "cell_type": "markdown",
   "id": "31660025",
   "metadata": {},
   "source": [
    "## Submission\n",
    "\n",
    "Please submit a written report of what task you tried probing, how well did GPT3 do for that task and what were your key takeaways in this experiment."
   ]
  },
  {
   "cell_type": "code",
   "execution_count": null,
   "id": "330bd30d",
   "metadata": {},
   "outputs": [],
   "source": []
  }
 ],
 "metadata": {
  "kernelspec": {
   "display_name": "Python 3 (ipykernel)",
   "language": "python",
   "name": "python3"
  },
  "language_info": {
   "codemirror_mode": {
    "name": "ipython",
    "version": 3
   },
   "file_extension": ".py",
   "mimetype": "text/x-python",
   "name": "python",
   "nbconvert_exporter": "python",
   "pygments_lexer": "ipython3",
   "version": "3.9.18"
  }
 },
 "nbformat": 4,
 "nbformat_minor": 5
}
