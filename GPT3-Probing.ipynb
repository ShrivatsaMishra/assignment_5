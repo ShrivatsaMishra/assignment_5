{
 "cells": [
  {
   "cell_type": "markdown",
   "id": "d0c697ed",
   "metadata": {},
   "source": [
    "# Prompt Engineering and Probing with GPT3\n",
    "\n",
    "For the extra-credit, we will be exploring the recent trend that has revolutionalized this field. With GPT3, we can do a variety of tasks without the need of training a model. All we need to do is convert the task into an text generation task that follows a set of instructions called *prompts*. As an example, the task of sentiment classification can be designed as:\n",
    "\n",
    "```\n",
    "Decide whether a Tweet's sentiment is positive, neutral, or negative.\n",
    "\n",
    "Tweet: I loved the new Batman movie!\n",
    "Sentiment:\n",
    "```\n",
    "\n",
    "The GPT3 model then completes the text above with the response **Positive**. The above prompt is an example of zero-shot prediction, meaning, we are not providing any signal/direction that can guide the decision. We could also design the prompt as follows:\n",
    "\n",
    "```\n",
    "Decide whether a Tweet's sentiment is positive, neutral, or negative.\n",
    "\n",
    "Tweet: I really liked the Spiderman movie!\n",
    "Sentiment: Positive\n",
    "\n",
    "Tweet: I loved the new Batman movie!\n",
    "Sentiment:\n",
    "```\n",
    "\n",
    "Now this is an example of 1-shot learning, i.e., you are providing an labeled example of how the output should look and then ask GPT3 to complete the next example. When you use more than 1 labeled example, it is known as few-shot learning.  The expectation is that, if you provide more examples in the prompt, it will make better predictions.\n",
    "\n",
    "## Getting Started\n",
    "In this assignment, we will first need to register for an account at: https://beta.openai.com/ As a free trial, you will get $18 credits to make api calls to the GPT3 server. Once registered, you should go through the docs here: https://beta.openai.com/docs/guides/completion/prompt-design to get more info on the capabilities of the model. You can then go directly interact with GPT3 in the playground: https://beta.openai.com/playground. For making these calls programmatically, we will do the following:"
   ]
  },
  {
   "cell_type": "code",
   "execution_count": 3,
   "id": "806993a1",
   "metadata": {},
   "outputs": [
    {
     "name": "stdout",
     "output_type": "stream",
     "text": [
      "Requirement already satisfied: openai in /home/rehan/anaconda3/envs/cu39/lib/python3.9/site-packages (0.24.0)\n",
      "Requirement already satisfied: tqdm in /home/rehan/anaconda3/envs/cu39/lib/python3.9/site-packages (from openai) (4.64.1)\n",
      "Requirement already satisfied: requests>=2.20 in /home/rehan/anaconda3/envs/cu39/lib/python3.9/site-packages (from openai) (2.28.1)\n",
      "Requirement already satisfied: numpy in /home/rehan/anaconda3/envs/cu39/lib/python3.9/site-packages (from openai) (1.23.3)\n",
      "Requirement already satisfied: typing-extensions in /home/rehan/anaconda3/envs/cu39/lib/python3.9/site-packages (from openai) (4.4.0)\n",
      "Requirement already satisfied: pandas-stubs>=1.1.0.11 in /home/rehan/anaconda3/envs/cu39/lib/python3.9/site-packages (from openai) (1.5.1.221024)\n",
      "Requirement already satisfied: pandas>=1.2.3 in /home/rehan/anaconda3/envs/cu39/lib/python3.9/site-packages (from openai) (1.5.1)\n",
      "Requirement already satisfied: openpyxl>=3.0.7 in /home/rehan/anaconda3/envs/cu39/lib/python3.9/site-packages (from openai) (3.0.10)\n",
      "Requirement already satisfied: et-xmlfile in /home/rehan/anaconda3/envs/cu39/lib/python3.9/site-packages (from openpyxl>=3.0.7->openai) (1.1.0)\n",
      "Requirement already satisfied: python-dateutil>=2.8.1 in /home/rehan/anaconda3/envs/cu39/lib/python3.9/site-packages (from pandas>=1.2.3->openai) (2.8.2)\n",
      "Requirement already satisfied: pytz>=2020.1 in /home/rehan/anaconda3/envs/cu39/lib/python3.9/site-packages (from pandas>=1.2.3->openai) (2022.5)\n",
      "Requirement already satisfied: types-pytz>=2022.1.1 in /home/rehan/anaconda3/envs/cu39/lib/python3.9/site-packages (from pandas-stubs>=1.1.0.11->openai) (2022.5.0.0)\n",
      "Requirement already satisfied: urllib3<1.27,>=1.21.1 in /home/rehan/anaconda3/envs/cu39/lib/python3.9/site-packages (from requests>=2.20->openai) (1.26.12)\n",
      "Requirement already satisfied: certifi>=2017.4.17 in /home/rehan/anaconda3/envs/cu39/lib/python3.9/site-packages (from requests>=2.20->openai) (2022.9.24)\n",
      "Requirement already satisfied: charset-normalizer<3,>=2 in /home/rehan/anaconda3/envs/cu39/lib/python3.9/site-packages (from requests>=2.20->openai) (2.1.1)\n",
      "Requirement already satisfied: idna<4,>=2.5 in /home/rehan/anaconda3/envs/cu39/lib/python3.9/site-packages (from requests>=2.20->openai) (3.4)\n",
      "Requirement already satisfied: six>=1.5 in /home/rehan/anaconda3/envs/cu39/lib/python3.9/site-packages (from python-dateutil>=2.8.1->pandas>=1.2.3->openai) (1.16.0)\n",
      "Note: you may need to restart the kernel to use updated packages.\n"
     ]
    }
   ],
   "source": [
    "pip install openai"
   ]
  },
  {
   "cell_type": "code",
   "execution_count": 12,
   "id": "cf90729c",
   "metadata": {},
   "outputs": [],
   "source": [
    "import os\n",
    "\n",
    "## Find the API key by clicking on your profile in the openai page. Add the key to the environment as following:\n",
    "## Make sure to delete this cell afterwords\n",
    "\n",
    "os.environ['OPENAI_API_KEY'] = 'ENTER_YOUR_API_KEY_HERE'"
   ]
  },
  {
   "cell_type": "code",
   "execution_count": 4,
   "id": "bce117de",
   "metadata": {},
   "outputs": [],
   "source": [
    "import os\n",
    "import openai\n",
    "\n",
    "openai.api_key = os.getenv('OPENAI_API_KEY')\n",
    "\n",
    "response = openai.Completion.create(\n",
    "  model=\"text-davinci-002\",\n",
    "  prompt=\"Decide whether a Tweet's sentiment is positive, neutral, or negative.\\n\\nTweet: \\\"I loved the new Batman movie!\\\"\\nSentiment:\",\n",
    "  temperature=0,\n",
    "  max_tokens=60,\n",
    "  top_p=1,\n",
    "  frequency_penalty=0.5,\n",
    "  presence_penalty=0\n",
    ")"
   ]
  },
  {
   "cell_type": "code",
   "execution_count": 5,
   "id": "1900d9de",
   "metadata": {},
   "outputs": [
    {
     "data": {
      "text/plain": [
       "<OpenAIObject text_completion id=cmpl-65qEGMoypr1hfEGGutqOQucvamtRD at 0x7fd031f484f0> JSON: {\n",
       "  \"choices\": [\n",
       "    {\n",
       "      \"finish_reason\": \"stop\",\n",
       "      \"index\": 0,\n",
       "      \"logprobs\": null,\n",
       "      \"text\": \" Positive\"\n",
       "    }\n",
       "  ],\n",
       "  \"created\": 1666850428,\n",
       "  \"id\": \"cmpl-65qEGMoypr1hfEGGutqOQucvamtRD\",\n",
       "  \"model\": \"text-davinci-002\",\n",
       "  \"object\": \"text_completion\",\n",
       "  \"usage\": {\n",
       "    \"completion_tokens\": 1,\n",
       "    \"prompt_tokens\": 31,\n",
       "    \"total_tokens\": 32\n",
       "  }\n",
       "}"
      ]
     },
     "execution_count": 5,
     "metadata": {},
     "output_type": "execute_result"
    }
   ],
   "source": [
    "response"
   ]
  },
  {
   "cell_type": "code",
   "execution_count": 6,
   "id": "6444ebbc",
   "metadata": {},
   "outputs": [
    {
     "data": {
      "text/plain": [
       "' Positive'"
      ]
     },
     "execution_count": 6,
     "metadata": {},
     "output_type": "execute_result"
    }
   ],
   "source": [
    "response['choices'][0]['text']"
   ]
  },
  {
   "cell_type": "markdown",
   "id": "5cd0af83",
   "metadata": {},
   "source": [
    "If you see ' Positive' as response in the above cell, you have successfully set-up gpt3 in your system.\n",
    "\n",
    "Now, the task for the assignment is really just do something cool. For example, you could probe how well GPT3 performs on the tasks in the previous HWs. Or, you could do something like question-answering or summarization, that were not covered in the assignments. The choice is yours."
   ]
  },
  {
   "cell_type": "markdown",
   "id": "31660025",
   "metadata": {},
   "source": [
    "## Submission\n",
    "\n",
    "Please submit a written report of what task you tried probing, how well did GPT3 do for that task and what were your key takeaways in this experiment."
   ]
  },
  {
   "cell_type": "code",
   "execution_count": null,
   "id": "330bd30d",
   "metadata": {},
   "outputs": [],
   "source": []
  }
 ],
 "metadata": {
  "kernelspec": {
   "display_name": "Python 3 (ipykernel)",
   "language": "python",
   "name": "python3"
  },
  "language_info": {
   "codemirror_mode": {
    "name": "ipython",
    "version": 3
   },
   "file_extension": ".py",
   "mimetype": "text/x-python",
   "name": "python",
   "nbconvert_exporter": "python",
   "pygments_lexer": "ipython3",
   "version": "3.9.13"
  }
 },
 "nbformat": 4,
 "nbformat_minor": 5
}
